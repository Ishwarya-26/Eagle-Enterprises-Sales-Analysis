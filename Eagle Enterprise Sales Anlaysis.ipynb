{
 "cells": [
  {
   "cell_type": "code",
   "execution_count": 1,
   "id": "5e4b7148",
   "metadata": {},
   "outputs": [],
   "source": [
    "# Importing necessary libraries\n",
    "import pandas as pd\n",
    "import matplotlib.pyplot as plt\n",
    "import seaborn as sns"
   ]
  },
  {
   "cell_type": "code",
   "execution_count": 15,
   "id": "4bc16ba1",
   "metadata": {},
   "outputs": [],
   "source": [
    "# Loading the data from Excel file\n",
    "data =pd.read_excel(\"Eagle data.xlsx\")"
   ]
  },
  {
   "cell_type": "code",
   "execution_count": 16,
   "id": "6832353e",
   "metadata": {},
   "outputs": [
    {
     "data": {
      "text/plain": [
       "(718, 9)"
      ]
     },
     "execution_count": 16,
     "metadata": {},
     "output_type": "execute_result"
    }
   ],
   "source": [
    "#Exploring the data structure\n",
    "data.shape"
   ]
  },
  {
   "cell_type": "code",
   "execution_count": 17,
   "id": "befaa604",
   "metadata": {},
   "outputs": [
    {
     "data": {
      "text/html": [
       "<div>\n",
       "<style scoped>\n",
       "    .dataframe tbody tr th:only-of-type {\n",
       "        vertical-align: middle;\n",
       "    }\n",
       "\n",
       "    .dataframe tbody tr th {\n",
       "        vertical-align: top;\n",
       "    }\n",
       "\n",
       "    .dataframe thead th {\n",
       "        text-align: right;\n",
       "    }\n",
       "</style>\n",
       "<table border=\"1\" class=\"dataframe\">\n",
       "  <thead>\n",
       "    <tr style=\"text-align: right;\">\n",
       "      <th></th>\n",
       "      <th>S.NO</th>\n",
       "      <th>Brand</th>\n",
       "      <th>Item</th>\n",
       "      <th>Product</th>\n",
       "      <th>Product Model</th>\n",
       "      <th>Date</th>\n",
       "      <th>Invoice No</th>\n",
       "      <th>Customer Name</th>\n",
       "      <th>Amount</th>\n",
       "    </tr>\n",
       "  </thead>\n",
       "  <tbody>\n",
       "    <tr>\n",
       "      <th>0</th>\n",
       "      <td>1</td>\n",
       "      <td>ANDAL</td>\n",
       "      <td>ANDAL</td>\n",
       "      <td>DINING TABLE</td>\n",
       "      <td>5X2 1/2 WOODEN</td>\n",
       "      <td>09-03-2023</td>\n",
       "      <td>SI/TAM/5912</td>\n",
       "      <td>Mrs. JEYATHALA</td>\n",
       "      <td>50000</td>\n",
       "    </tr>\n",
       "    <tr>\n",
       "      <th>1</th>\n",
       "      <td>2</td>\n",
       "      <td>BALAN</td>\n",
       "      <td>BALAN</td>\n",
       "      <td>DINING TABLE</td>\n",
       "      <td>4+1</td>\n",
       "      <td>23-01-2023</td>\n",
       "      <td>SI/ADM/14478</td>\n",
       "      <td>MR. GOPALA KLIVE</td>\n",
       "      <td>33400</td>\n",
       "    </tr>\n",
       "    <tr>\n",
       "      <th>2</th>\n",
       "      <td>3</td>\n",
       "      <td>BALAN</td>\n",
       "      <td>BALAN</td>\n",
       "      <td>DINING TABLE</td>\n",
       "      <td>4+1 WOODEN</td>\n",
       "      <td>12-03-2023</td>\n",
       "      <td>SI/ADM/16790</td>\n",
       "      <td>MR.K.ARAVIND SATHIYA NARAYANAN</td>\n",
       "      <td>35800</td>\n",
       "    </tr>\n",
       "    <tr>\n",
       "      <th>3</th>\n",
       "      <td>4</td>\n",
       "      <td>BASKAR</td>\n",
       "      <td>BASKAR</td>\n",
       "      <td>DINING TABLE</td>\n",
       "      <td>ROUND 1+4</td>\n",
       "      <td>12-02-2023</td>\n",
       "      <td>SI/TAM/5492</td>\n",
       "      <td>Mr. RAMANATHAN,</td>\n",
       "      <td>35000</td>\n",
       "    </tr>\n",
       "    <tr>\n",
       "      <th>4</th>\n",
       "      <td>5</td>\n",
       "      <td>BASKAR</td>\n",
       "      <td>BASKAR</td>\n",
       "      <td>DINING TABLE</td>\n",
       "      <td>WOODEN</td>\n",
       "      <td>17-01-2023</td>\n",
       "      <td>SI/MUV/2740</td>\n",
       "      <td>A.MANIKKAM</td>\n",
       "      <td>24000</td>\n",
       "    </tr>\n",
       "  </tbody>\n",
       "</table>\n",
       "</div>"
      ],
      "text/plain": [
       "   S.NO   Brand    Item       Product   Product Model        Date  \\\n",
       "0     1   ANDAL   ANDAL  DINING TABLE  5X2 1/2 WOODEN  09-03-2023   \n",
       "1     2   BALAN   BALAN  DINING TABLE             4+1  23-01-2023   \n",
       "2     3   BALAN   BALAN  DINING TABLE      4+1 WOODEN  12-03-2023   \n",
       "3     4  BASKAR  BASKAR  DINING TABLE       ROUND 1+4  12-02-2023   \n",
       "4     5  BASKAR  BASKAR  DINING TABLE          WOODEN  17-01-2023   \n",
       "\n",
       "     Invoice No                   Customer Name  Amount  \n",
       "0   SI/TAM/5912                  Mrs. JEYATHALA   50000  \n",
       "1  SI/ADM/14478                MR. GOPALA KLIVE   33400  \n",
       "2  SI/ADM/16790  MR.K.ARAVIND SATHIYA NARAYANAN   35800  \n",
       "3   SI/TAM/5492                 Mr. RAMANATHAN,   35000  \n",
       "4   SI/MUV/2740                      A.MANIKKAM   24000  "
      ]
     },
     "execution_count": 17,
     "metadata": {},
     "output_type": "execute_result"
    }
   ],
   "source": [
    "data.head()"
   ]
  },
  {
   "cell_type": "code",
   "execution_count": 18,
   "id": "4e2947e5",
   "metadata": {},
   "outputs": [
    {
     "data": {
      "text/html": [
       "<div>\n",
       "<style scoped>\n",
       "    .dataframe tbody tr th:only-of-type {\n",
       "        vertical-align: middle;\n",
       "    }\n",
       "\n",
       "    .dataframe tbody tr th {\n",
       "        vertical-align: top;\n",
       "    }\n",
       "\n",
       "    .dataframe thead th {\n",
       "        text-align: right;\n",
       "    }\n",
       "</style>\n",
       "<table border=\"1\" class=\"dataframe\">\n",
       "  <thead>\n",
       "    <tr style=\"text-align: right;\">\n",
       "      <th></th>\n",
       "      <th>S.NO</th>\n",
       "      <th>Brand</th>\n",
       "      <th>Item</th>\n",
       "      <th>Product</th>\n",
       "      <th>Product Model</th>\n",
       "      <th>Date</th>\n",
       "      <th>Invoice No</th>\n",
       "      <th>Customer Name</th>\n",
       "      <th>Amount</th>\n",
       "    </tr>\n",
       "  </thead>\n",
       "  <tbody>\n",
       "    <tr>\n",
       "      <th>713</th>\n",
       "      <td>714</td>\n",
       "      <td>VIVO</td>\n",
       "      <td>VIVO</td>\n",
       "      <td>SMART PHONE</td>\n",
       "      <td>V25 PRO SAILLING BLUE (8/128GB)</td>\n",
       "      <td>29-01-2023</td>\n",
       "      <td>SI/TAM/4687</td>\n",
       "      <td>BAJAJ FINANCE LTD</td>\n",
       "      <td>35999</td>\n",
       "    </tr>\n",
       "    <tr>\n",
       "      <th>714</th>\n",
       "      <td>715</td>\n",
       "      <td>VIVO</td>\n",
       "      <td>VIVO</td>\n",
       "      <td>SMART PHONE</td>\n",
       "      <td>V25 PRO SAILLING BLUE (8/128GB)</td>\n",
       "      <td>01-02-2023</td>\n",
       "      <td>SI/SPT/2290</td>\n",
       "      <td>IDFC FINANCE LTD</td>\n",
       "      <td>35999</td>\n",
       "    </tr>\n",
       "    <tr>\n",
       "      <th>715</th>\n",
       "      <td>716</td>\n",
       "      <td>VIVO</td>\n",
       "      <td>VIVO</td>\n",
       "      <td>SMART PHONE</td>\n",
       "      <td>V25 SURFING BLUE (12/256GB)</td>\n",
       "      <td>11-02-2023</td>\n",
       "      <td>SI/TAM/4863</td>\n",
       "      <td>BAJAJ FINANCE LTD</td>\n",
       "      <td>30499</td>\n",
       "    </tr>\n",
       "    <tr>\n",
       "      <th>716</th>\n",
       "      <td>717</td>\n",
       "      <td>VIVO</td>\n",
       "      <td>VIVO</td>\n",
       "      <td>SMART PHONE</td>\n",
       "      <td>V25 SURFING BLUE (12/256GB)</td>\n",
       "      <td>12-02-2023</td>\n",
       "      <td>SI/TAM/4888</td>\n",
       "      <td>BAJAJ FINANCE LTD</td>\n",
       "      <td>37500</td>\n",
       "    </tr>\n",
       "    <tr>\n",
       "      <th>717</th>\n",
       "      <td>718</td>\n",
       "      <td>VIVO</td>\n",
       "      <td>VIVO</td>\n",
       "      <td>SMART PHONE</td>\n",
       "      <td>V25 SURFING BLUE (8/128GB)</td>\n",
       "      <td>01-01-2023</td>\n",
       "      <td>SI/GVY/332</td>\n",
       "      <td>SANTHOSH</td>\n",
       "      <td>27999</td>\n",
       "    </tr>\n",
       "  </tbody>\n",
       "</table>\n",
       "</div>"
      ],
      "text/plain": [
       "     S.NO Brand  Item      Product                    Product Model  \\\n",
       "713   714  VIVO  VIVO  SMART PHONE  V25 PRO SAILLING BLUE (8/128GB)   \n",
       "714   715  VIVO  VIVO  SMART PHONE  V25 PRO SAILLING BLUE (8/128GB)   \n",
       "715   716  VIVO  VIVO  SMART PHONE      V25 SURFING BLUE (12/256GB)   \n",
       "716   717  VIVO  VIVO  SMART PHONE      V25 SURFING BLUE (12/256GB)   \n",
       "717   718  VIVO  VIVO  SMART PHONE       V25 SURFING BLUE (8/128GB)   \n",
       "\n",
       "           Date   Invoice No      Customer Name  Amount  \n",
       "713  29-01-2023  SI/TAM/4687  BAJAJ FINANCE LTD   35999  \n",
       "714  01-02-2023  SI/SPT/2290   IDFC FINANCE LTD   35999  \n",
       "715  11-02-2023  SI/TAM/4863  BAJAJ FINANCE LTD   30499  \n",
       "716  12-02-2023  SI/TAM/4888  BAJAJ FINANCE LTD   37500  \n",
       "717  01-01-2023   SI/GVY/332           SANTHOSH   27999  "
      ]
     },
     "execution_count": 18,
     "metadata": {},
     "output_type": "execute_result"
    }
   ],
   "source": [
    "data.tail()"
   ]
  },
  {
   "cell_type": "code",
   "execution_count": 19,
   "id": "ea1161fe",
   "metadata": {},
   "outputs": [
    {
     "data": {
      "text/plain": [
       "S.NO              int64\n",
       "Brand            object\n",
       "Item             object\n",
       "Product          object\n",
       "Product Model    object\n",
       "Date             object\n",
       "Invoice No       object\n",
       "Customer Name    object\n",
       "Amount            int64\n",
       "dtype: object"
      ]
     },
     "execution_count": 19,
     "metadata": {},
     "output_type": "execute_result"
    }
   ],
   "source": [
    "data.dtypes"
   ]
  },
  {
   "cell_type": "code",
   "execution_count": 22,
   "id": "200cde0e",
   "metadata": {},
   "outputs": [],
   "source": [
    "# Data Cleaning\n",
    "# Removing unwanted columns\n",
    "unwanted_col=[\"S.NO\",\"Item\"]\n",
    "data.drop(unwanted_col,axis=1,inplace=True)"
   ]
  },
  {
   "cell_type": "code",
   "execution_count": 23,
   "id": "429324f5",
   "metadata": {},
   "outputs": [
    {
     "data": {
      "text/plain": [
       "Brand            0\n",
       "Product          0\n",
       "Product Model    0\n",
       "Date             0\n",
       "Invoice No       0\n",
       "Customer Name    1\n",
       "Amount           0\n",
       "dtype: int64"
      ]
     },
     "execution_count": 23,
     "metadata": {},
     "output_type": "execute_result"
    }
   ],
   "source": [
    "# Data Formatting\n",
    "#checking for null values\n",
    "data.isnull().sum()"
   ]
  },
  {
   "cell_type": "code",
   "execution_count": 24,
   "id": "e68652e7",
   "metadata": {},
   "outputs": [
    {
     "data": {
      "text/plain": [
       "0"
      ]
     },
     "execution_count": 24,
     "metadata": {},
     "output_type": "execute_result"
    }
   ],
   "source": [
    "#checking for duplicate values\n",
    "data.duplicated().sum()"
   ]
  },
  {
   "cell_type": "code",
   "execution_count": 25,
   "id": "52110475",
   "metadata": {},
   "outputs": [],
   "source": [
    "#dropping the null value\n",
    "data.dropna(inplace=True)"
   ]
  },
  {
   "cell_type": "code",
   "execution_count": 30,
   "id": "d0c86f55",
   "metadata": {},
   "outputs": [
    {
     "data": {
      "text/plain": [
       "array(['DINING TABLE', 'WASHING MACHINE', 'REFRIGERATOR', 'SOFA',\n",
       "       'AIRCONDITIONER', 'SMART PHONE'], dtype=object)"
      ]
     },
     "execution_count": 30,
     "metadata": {},
     "output_type": "execute_result"
    }
   ],
   "source": [
    "# Feature Analysis\n",
    "# Checking unique values in the \"Product Category\" column\n",
    "data[\"Product\"].unique()"
   ]
  },
  {
   "cell_type": "code",
   "execution_count": 31,
   "id": "554bae8f",
   "metadata": {},
   "outputs": [
    {
     "data": {
      "text/plain": [
       "6"
      ]
     },
     "execution_count": 31,
     "metadata": {},
     "output_type": "execute_result"
    }
   ],
   "source": [
    "# Checking the number of unique values in the \"Product Category\" column\n",
    "data[\"Product\"].nunique()"
   ]
  },
  {
   "cell_type": "code",
   "execution_count": 27,
   "id": "ea85ae62",
   "metadata": {},
   "outputs": [],
   "source": [
    "# Add category column\n",
    "category_data = { 'Product': ['DINING TABLE', 'WASHING MACHINE', 'REFRIGERATOR', 'SOFA', 'AIRCONDITIONER', 'SMART PHONE']}"
   ]
  },
  {
   "cell_type": "code",
   "execution_count": null,
   "id": "ffff861f",
   "metadata": {},
   "outputs": [],
   "source": [
    "# Define the categories\n",
    "categories = {'DINING TABLE':'Furniture',\n",
    "    'WASHING MACHINE':'Home Appliance',\n",
    "    'REFRIGERATOR':'Home Appliance',\n",
    "    'SOFA':'Furniture',\n",
    "    'AIRCONDITIONER':'Home Appliance',\n",
    "    'SMART PHONE':'Mobile and Computer'}"
   ]
  },
  {
   "cell_type": "code",
   "execution_count": null,
   "id": "422d024b",
   "metadata": {},
   "outputs": [],
   "source": [
    "# Add the category column\n",
    "data['Category'] = data['Product'].map(categories)"
   ]
  },
  {
   "cell_type": "code",
   "execution_count": 32,
   "id": "280e725f",
   "metadata": {},
   "outputs": [
    {
     "data": {
      "text/plain": [
       "181"
      ]
     },
     "execution_count": 32,
     "metadata": {},
     "output_type": "execute_result"
    }
   ],
   "source": [
    "# Checking the number of unique values in the \"Product Model\" column\n",
    "data[\"Product Model\"].nunique()"
   ]
  },
  {
   "cell_type": "code",
   "execution_count": 34,
   "id": "023d33ba",
   "metadata": {},
   "outputs": [
    {
     "data": {
      "text/plain": [
       "446"
      ]
     },
     "execution_count": 34,
     "metadata": {},
     "output_type": "execute_result"
    }
   ],
   "source": [
    "# Checking the number of unique customers\n",
    "data[\"Customer Name\"].nunique()"
   ]
  },
  {
   "cell_type": "code",
   "execution_count": 35,
   "id": "da4563c0",
   "metadata": {},
   "outputs": [
    {
     "data": {
      "text/plain": [
       "array(['ANDAL', 'BALAN', 'BASKAR', 'EVER GREEN', 'GB MARKETING',\n",
       "       'NILKAMAL', 'RATHNA', 'SREEVARI', 'SRI OM', 'SRI VARI', 'SUPREME',\n",
       "       'VILLAGE WOOD', 'WOODNESS', 'BOSCH', 'GODREJ', 'HAIER',\n",
       "       'KELVINATOR', 'LG', 'SAMSUNG', 'EAGLE', 'EAGLE COMBO OFFER',\n",
       "       'GENUINE FURNITURE', 'IDECOR', 'NITHYASHREE', 'SHARP', 'RANJITH',\n",
       "       'BLUE STAR', 'ONE PLUS', 'REALME', 'VIVO'], dtype=object)"
      ]
     },
     "execution_count": 35,
     "metadata": {},
     "output_type": "execute_result"
    }
   ],
   "source": [
    "# Checking unique values in the \"Brand\" column\n",
    "data[\"Brand\"].unique()"
   ]
  },
  {
   "cell_type": "code",
   "execution_count": 36,
   "id": "b80588df",
   "metadata": {},
   "outputs": [
    {
     "data": {
      "text/plain": [
       "30"
      ]
     },
     "execution_count": 36,
     "metadata": {},
     "output_type": "execute_result"
    }
   ],
   "source": [
    "# Checking the number of unique values in the \"Brand\" column\n",
    "data[\"Brand\"].nunique()"
   ]
  },
  {
   "cell_type": "code",
   "execution_count": 37,
   "id": "94fd7db0",
   "metadata": {},
   "outputs": [
    {
     "data": {
      "text/html": [
       "<div>\n",
       "<style scoped>\n",
       "    .dataframe tbody tr th:only-of-type {\n",
       "        vertical-align: middle;\n",
       "    }\n",
       "\n",
       "    .dataframe tbody tr th {\n",
       "        vertical-align: top;\n",
       "    }\n",
       "\n",
       "    .dataframe thead th {\n",
       "        text-align: right;\n",
       "    }\n",
       "</style>\n",
       "<table border=\"1\" class=\"dataframe\">\n",
       "  <thead>\n",
       "    <tr style=\"text-align: right;\">\n",
       "      <th></th>\n",
       "      <th>Amount</th>\n",
       "    </tr>\n",
       "  </thead>\n",
       "  <tbody>\n",
       "    <tr>\n",
       "      <th>count</th>\n",
       "      <td>7.170000e+02</td>\n",
       "    </tr>\n",
       "    <tr>\n",
       "      <th>mean</th>\n",
       "      <td>3.772376e+04</td>\n",
       "    </tr>\n",
       "    <tr>\n",
       "      <th>std</th>\n",
       "      <td>6.086817e+04</td>\n",
       "    </tr>\n",
       "    <tr>\n",
       "      <th>min</th>\n",
       "      <td>2.700000e+03</td>\n",
       "    </tr>\n",
       "    <tr>\n",
       "      <th>25%</th>\n",
       "      <td>2.125000e+04</td>\n",
       "    </tr>\n",
       "    <tr>\n",
       "      <th>50%</th>\n",
       "      <td>3.300000e+04</td>\n",
       "    </tr>\n",
       "    <tr>\n",
       "      <th>75%</th>\n",
       "      <td>4.030000e+04</td>\n",
       "    </tr>\n",
       "    <tr>\n",
       "      <th>max</th>\n",
       "      <td>1.097507e+06</td>\n",
       "    </tr>\n",
       "  </tbody>\n",
       "</table>\n",
       "</div>"
      ],
      "text/plain": [
       "             Amount\n",
       "count  7.170000e+02\n",
       "mean   3.772376e+04\n",
       "std    6.086817e+04\n",
       "min    2.700000e+03\n",
       "25%    2.125000e+04\n",
       "50%    3.300000e+04\n",
       "75%    4.030000e+04\n",
       "max    1.097507e+06"
      ]
     },
     "execution_count": 37,
     "metadata": {},
     "output_type": "execute_result"
    }
   ],
   "source": [
    "# Data Visualization\n",
    "# Summary statistics of the data\n",
    "data.describe()"
   ]
  },
  {
   "cell_type": "code",
   "execution_count": 38,
   "id": "2e8de9fe",
   "metadata": {},
   "outputs": [
    {
     "data": {
      "image/png": "[encoded data removed]",
      "text/plain": [
       "<Figure size 640x480 with 1 Axes>"
      ]
     },
     "metadata": {},
     "output_type": "display_data"
    }
   ],
   "source": [
    "# Plotting the distribution of \"Product Category\"\n",
    "data[\"Product\"].value_counts().plot(kind=\"bar\")\n",
    "plt.title(\"Product Distribution\")\n",
    "plt.xlabel(\"Product\")\n",
    "plt.ylabel(\"Count\")\n",
    "plt.show()"
   ]
  },
  {
   "cell_type": "code",
   "execution_count": 39,
   "id": "69aec6e7",
   "metadata": {},
   "outputs": [
    {
     "name": "stdout",
     "output_type": "stream",
     "text": [
      "        Amount\n",
      "Amount     1.0\n"
     ]
    }
   ],
   "source": [
    "# Calculating correlation matrix\n",
    "correlation_matrix = data.corr()\n",
    "print(correlation_matrix)"
   ]
  },
  {
   "cell_type": "code",
   "execution_count": 41,
   "id": "fdc78108",
   "metadata": {},
   "outputs": [],
   "source": [
    "# Converting the date data type \n",
    "data['Date'] = pd.to_datetime(data['Date'], format='%d-%m-%Y')"
   ]
  },
  {
   "cell_type": "code",
   "execution_count": 43,
   "id": "c5e62039",
   "metadata": {},
   "outputs": [],
   "source": [
    "# Extracting month from the date column\n",
    "data['OrderMonth'] = data['Date'].dt.month"
   ]
  },
  {
   "cell_type": "code",
   "execution_count": 45,
   "id": "0ac57d9e",
   "metadata": {},
   "outputs": [
    {
     "name": "stdout",
     "output_type": "stream",
     "text": [
      "OrderMonth\n",
      "1    7106149\n",
      "2    7223575\n",
      "3    6104286\n",
      "4    6613927\n",
      "Name: Amount, dtype: int64\n"
     ]
    }
   ],
   "source": [
    "# Calculate monthly sales\n",
    "monthly_sales = data.groupby([\"OrderMonth\"]).sum()[\"Amount\"]\n",
    "print(monthly_sales)"
   ]
  },
  {
   "cell_type": "code",
   "execution_count": 46,
   "id": "63a99c5c",
   "metadata": {},
   "outputs": [
    {
     "data": {
      "image/png": "[encoded data removed]",
      "text/plain": [
       "<Figure size 640x480 with 1 Axes>"
      ]
     },
     "metadata": {},
     "output_type": "display_data"
    }
   ],
   "source": [
    "sns.barplot(x='OrderMonth', y='Amount', data=monthly_sales.reset_index())\n",
    "plt.title(\"Monthly Sales Trend\")\n",
    "plt.xlabel(\"Month\")\n",
    "plt.ylabel(\"Sales Amount\")\n",
    "plt.show()"
   ]
  },
  {
   "cell_type": "code",
   "execution_count": 47,
   "id": "729fdb72",
   "metadata": {},
   "outputs": [],
   "source": [
    "# Saving the cleaned data to a CSV file\n",
    "data.to_csv('Eagle_sales.csv', index=False)"
   ]
  },
  {
   "cell_type": "code",
   "execution_count": null,
   "id": "59312fbc",
   "metadata": {},
   "outputs": [],
   "source": []
  }
 ],
 "metadata": {
  "kernelspec": {
   "display_name": "Python 3 (ipykernel)",
   "language": "python",
   "name": "python3"
  },
  "language_info": {
   "codemirror_mode": {
    "name": "ipython",
    "version": 3
   },
   "file_extension": ".py",
   "mimetype": "text/x-python",
   "name": "python",
   "nbconvert_exporter": "python",
   "pygments_lexer": "ipython3",
   "version": "3.9.13"
  }
 },
 "nbformat": 4,
 "nbformat_minor": 5
}
